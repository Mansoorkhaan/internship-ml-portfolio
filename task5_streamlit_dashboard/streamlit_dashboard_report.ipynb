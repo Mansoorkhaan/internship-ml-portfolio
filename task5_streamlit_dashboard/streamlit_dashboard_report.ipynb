{
 "cells": [
  {
   "cell_type": "markdown",
   "id": "ec2c53e7",
   "metadata": {},
   "source": [
    "# Streamlit Dashboard Report\n",
    "\n",
    "Short EDA, screenshots, and conclusions."
   ]
  },
  {
   "cell_type": "markdown",
   "id": "5d36523d",
   "metadata": {},
   "source": [
    "## How to Run the App\n",
    "```bash\n",
    "pip install -r ../requirements.txt\n",
    "streamlit run dashboard_clean.py\n",
    "```"
   ]
  },
  {
   "cell_type": "markdown",
   "id": "a80bab1c",
   "metadata": {},
   "source": [
    "## Screenshots\n",
    "Place PNGs in `screenshots/` and display them below."
   ]
  },
  {
   "cell_type": "code",
   "execution_count": null,
   "id": "6a7c5203",
   "metadata": {},
   "outputs": [],
   "source": [
    "from IPython.display import Image, display\n",
    "import os\n",
    "\n",
    "shots = sorted([f for f in os.listdir('screenshots') if f.lower().endswith(('.png','.jpg','.jpeg'))])\n",
    "for s in shots:\n",
    "    display(Image(filename=f'screenshots/{s}'))"
   ]
  },
  {
   "cell_type": "markdown",
   "id": "3c77a818",
   "metadata": {},
   "source": [
    "## Conclusions\n",
    "- Summarize KPI trends and category winners.\n",
    "- Mention top customers and segment profitability."
   ]
  }
 ],
 "metadata": {
  "language_info": {
   "name": "python"
  }
 },
 "nbformat": 4,
 "nbformat_minor": 5
}
